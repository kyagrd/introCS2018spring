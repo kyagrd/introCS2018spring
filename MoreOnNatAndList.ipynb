{
 "cells": [
  {
   "cell_type": "markdown",
   "metadata": {},
   "source": [
    "# 일진수 자연수와 리스트에 대해 좀더\n",
    "지난번 HelloHaskell 노트북에서 하스켈 문법 관련해서 빼먹고 설명하지 않은 것이 하나 있는데\n",
    "함수를 포함한 값에 대한 새로운 이름을 정의할 때 그 이름은 소문자로 시작하는 반면,\n",
    "타입의 이름이나 어떤 타입과 관련된 상수의 이름은 대문자로 시작한다.\n",
    "\n",
    "## 인자가 두 개인 함수에서의 수학적귀납법스러운 정의\n",
    "지난번 HelloHaskell 노트북에서는 일진수 자연수 데이타 타입 `Nat`을 정의하고 일진수 자연수를 컴퓨터에서 제공되는 정수로 변환하는 함수 `nat2int`를 정의해 보았으며 그와 거의 같은 구조를 갖는 `List`의 길이를 구하는 함수 `len`을 정의해 보았다.\n",
    "하나가 아닌 두 개의 `Nat`이나 `List`를 인자로 받는 함수들,\n",
    "즉 `Nat`이나 `List`에 대한 이항 함수들 중에도 이와 같이 거의 유사한 구조를 갖는 것들이 있다.\n",
    "두 개의 인자 둥에 하나를 기준으로 수학적귀납법스럽게 정의할 수 있는 함수들이 있는데,\n",
    "대표적으로 일진수 자연수의 덧셈 함수와 리스트 이어붙이기 함수가 그러하다."
   ]
  },
  {
   "cell_type": "code",
   "execution_count": 1,
   "metadata": {
    "collapsed": false
   },
   "outputs": [],
   "source": [
    "data Nat  = Z   | S Nat          deriving Show\n",
    "data List = Nil | Cons Int List  deriving Show"
   ]
  },
  {
   "cell_type": "code",
   "execution_count": 5,
   "metadata": {
    "collapsed": true
   },
   "outputs": [],
   "source": [
    "-- 일진수 덧셈\n",
    "plus :: Nat -> Nat -> Nat\n",
    "plus Z     m = m            -- induction base\n",
    "plus (S n) m = S (plus n m) -- inductive step"
   ]
  },
  {
   "cell_type": "code",
   "execution_count": 7,
   "metadata": {
    "collapsed": false
   },
   "outputs": [],
   "source": [
    "-- 리스트 두 개를 이어붙이는 함수\n",
    "append :: List -> List -> List\n",
    "append Nil         ys = ys -- induction base\n",
    "append (Cons x xs) ys = Cons x (append xs ys) -- inductive step"
   ]
  },
  {
   "cell_type": "code",
   "execution_count": 6,
   "metadata": {
    "collapsed": false
   },
   "outputs": [
    {
     "data": {
      "text/plain": [
       "S (S (S Z))"
      ]
     },
     "metadata": {},
     "output_type": "display_data"
    },
    {
     "data": {
      "text/plain": [
       "S (S (S (S (S Z))))"
      ]
     },
     "metadata": {},
     "output_type": "display_data"
    }
   ],
   "source": [
    "two   = S (S Z)\n",
    "three = S (S (S Z))\n",
    "\n",
    "plus Z three    -- 결과가 3에 해당하는 일진수\n",
    "plus two three  -- 결과가 5에 해당하는 일진수"
   ]
  },
  {
   "cell_type": "code",
   "execution_count": 13,
   "metadata": {
    "collapsed": false
   },
   "outputs": [
    {
     "data": {
      "text/plain": [
       "Cons 3 (Cons 4 (Cons 5 Nil))"
      ]
     },
     "metadata": {},
     "output_type": "display_data"
    },
    {
     "data": {
      "text/plain": [
       "Cons 1 (Cons 2 (Cons 3 (Cons 4 (Cons 5 Nil))))"
      ]
     },
     "metadata": {},
     "output_type": "display_data"
    }
   ],
   "source": [
    "list1 = Cons 1 (Cons 2 Nil)\n",
    "list2 = Cons 3 (Cons 4 (Cons 5 Nil))\n",
    "\n",
    "append Nil list2    -- 결과가 3,4,5 가 들어있는 리스트\n",
    "append list1 list2  -- 결과가 1,2,3,4,5 가 들어있는 리스트"
   ]
  },
  {
   "cell_type": "markdown",
   "metadata": {},
   "source": [
    "## 두 개의 인자에 대한 동시 귀납으로 정의되는 함수 \n",
    "모든 이항 함수가 하나의 인자를 기준으로 하여 귀납적으로 잘 정의되는 것은 아니다.\n",
    "두 개의 인자에 대해 동시에 귀납단계를 밟는 방식으로 정의하는 것이 자연스러운 함수들도 있다."
   ]
  },
  {
   "cell_type": "code",
   "execution_count": 10,
   "metadata": {
    "collapsed": true
   },
   "outputs": [],
   "source": [
    "-- 두 일진수 중에 작은 값을 돌려주는 함수\n",
    "minNat Z     m     = Z -- induction base\n",
    "minNat n     Z     = Z -- induction base\n",
    "minNat (S n) (S m) = S (minNat n m) -- inductive step"
   ]
  },
  {
   "cell_type": "code",
   "execution_count": 11,
   "metadata": {
    "collapsed": false
   },
   "outputs": [
    {
     "data": {
      "text/plain": [
       "S (S Z)"
      ]
     },
     "metadata": {},
     "output_type": "display_data"
    },
    {
     "data": {
      "text/plain": [
       "S (S Z)"
      ]
     },
     "metadata": {},
     "output_type": "display_data"
    }
   ],
   "source": [
    "minNat two three\n",
    "minNat three two"
   ]
  },
  {
   "cell_type": "code",
   "execution_count": 12,
   "metadata": {
    "collapsed": true
   },
   "outputs": [],
   "source": [
    "plusList Nil         ys          = Nil -- induction base\n",
    "plusList xs          Nil         = Nil -- induction base\n",
    "plusList (Cons x xs) (Cons y ys) = Cons (x+y) (plusList xs ys)-- inductive step"
   ]
  },
  {
   "cell_type": "code",
   "execution_count": 14,
   "metadata": {
    "collapsed": false
   },
   "outputs": [
    {
     "data": {
      "text/plain": [
       "Cons 4 (Cons 6 Nil)"
      ]
     },
     "metadata": {},
     "output_type": "display_data"
    },
    {
     "data": {
      "text/plain": [
       "Cons 4 (Cons 6 Nil)"
      ]
     },
     "metadata": {},
     "output_type": "display_data"
    }
   ],
   "source": [
    "plusList list1 list2\n",
    "plusList list2 list1"
   ]
  },
  {
   "cell_type": "markdown",
   "metadata": {},
   "source": [
    "---\n",
    "\n",
    "---\n",
    "\n",
    "# 과제\n",
    "\n",
    "---\n",
    "\n",
    "분반:\n",
    "\n",
    "이름:\n",
    "\n",
    "학번:\n",
    "\n",
    "---\n",
    "\n",
    "\n",
    "1. 일진수 곱셈을 계산하는 `mult`를 정의하라. (힌트: 위에서 정의한 `plus` 함수 이용)\n",
    "1. 일진수 뺄셈을 계산하는 `minus`를 정의하라. 자연수에는 음수가 없으므로 첫 번째 인자보다 두 번째 인자가 더 큰 경우는 Z으로 처리한다. 예컨대 `minus two three`의 계산결과는 Z가 된다.\n",
    "1. `plusList`와 비슷한 연산을 이진트리에 하는 `plusTree` 함수를 정의해 보라.<br>\n",
    "   `plusTree`\n",
    "   <img style='display:inline' src='https://kyagrd.github.io/introCS2018spring/img/t1.png' width='200'>\n",
    "   <img style='display:inline' src='https://kyagrd.github.io/introCS2018spring/img/t2.png' width='200'>\n",
    "   = <img style='display:inline' src='https://kyagrd.github.io/introCS2018spring/img/t3.png' width='200'>\n",
    "1. 좌우를 뒤집은 이진트리를 돌려주는 `mirrorTree` 함수를 정의해 보라<br>\n",
    "   `mirrorTree`\n",
    "   <img style='display:inline' src='https://kyagrd.github.io/introCS2018spring/img/t4.png' width='200'>\n",
    "   = <img style='display:inline' src='https://kyagrd.github.io/introCS2018spring/img/t5.png' width='200'>\n"
   ]
  },
  {
   "cell_type": "code",
   "execution_count": 10,
   "metadata": {
    "collapsed": false
   },
   "outputs": [
    {
     "data": {
      "text/html": [
       "<style>/* Styles used for the Hoogle display in the pager */\n",
       ".hoogle-doc {\n",
       "display: block;\n",
       "padding-bottom: 1.3em;\n",
       "padding-left: 0.4em;\n",
       "}\n",
       ".hoogle-code {\n",
       "display: block;\n",
       "font-family: monospace;\n",
       "white-space: pre;\n",
       "}\n",
       ".hoogle-text {\n",
       "display: block;\n",
       "}\n",
       ".hoogle-name {\n",
       "color: green;\n",
       "font-weight: bold;\n",
       "}\n",
       ".hoogle-head {\n",
       "font-weight: bold;\n",
       "}\n",
       ".hoogle-sub {\n",
       "display: block;\n",
       "margin-left: 0.4em;\n",
       "}\n",
       ".hoogle-package {\n",
       "font-weight: bold;\n",
       "font-style: italic;\n",
       "}\n",
       ".hoogle-module {\n",
       "font-weight: bold;\n",
       "}\n",
       ".hoogle-class {\n",
       "font-weight: bold;\n",
       "}\n",
       ".get-type {\n",
       "color: green;\n",
       "font-weight: bold;\n",
       "font-family: monospace;\n",
       "display: block;\n",
       "white-space: pre-wrap;\n",
       "}\n",
       ".show-type {\n",
       "color: green;\n",
       "font-weight: bold;\n",
       "font-family: monospace;\n",
       "margin-left: 1em;\n",
       "}\n",
       ".mono {\n",
       "font-family: monospace;\n",
       "display: block;\n",
       "}\n",
       ".err-msg {\n",
       "color: red;\n",
       "font-style: italic;\n",
       "font-family: monospace;\n",
       "white-space: pre;\n",
       "display: block;\n",
       "}\n",
       "#unshowable {\n",
       "color: red;\n",
       "font-weight: bold;\n",
       "}\n",
       ".err-msg.in.collapse {\n",
       "padding-top: 0.7em;\n",
       "}\n",
       ".highlight-code {\n",
       "white-space: pre;\n",
       "font-family: monospace;\n",
       "}\n",
       ".suggestion-warning { \n",
       "font-weight: bold;\n",
       "color: rgb(200, 130, 0);\n",
       "}\n",
       ".suggestion-error { \n",
       "font-weight: bold;\n",
       "color: red;\n",
       "}\n",
       ".suggestion-name {\n",
       "font-weight: bold;\n",
       "}\n",
       "</style><span class='err-msg'>The type signature for `mult' lacks an accompanying binding</span>"
      ],
      "text/plain": [
       "The type signature for `mult' lacks an accompanying binding"
      ]
     },
     "metadata": {},
     "output_type": "display_data"
    }
   ],
   "source": [
    "mult :: Nat -> Nat -> Nat\n",
    "-- 여기에 mult 정의하기"
   ]
  },
  {
   "cell_type": "code",
   "execution_count": 11,
   "metadata": {
    "collapsed": false
   },
   "outputs": [
    {
     "data": {
      "text/html": [
       "<style>/* Styles used for the Hoogle display in the pager */\n",
       ".hoogle-doc {\n",
       "display: block;\n",
       "padding-bottom: 1.3em;\n",
       "padding-left: 0.4em;\n",
       "}\n",
       ".hoogle-code {\n",
       "display: block;\n",
       "font-family: monospace;\n",
       "white-space: pre;\n",
       "}\n",
       ".hoogle-text {\n",
       "display: block;\n",
       "}\n",
       ".hoogle-name {\n",
       "color: green;\n",
       "font-weight: bold;\n",
       "}\n",
       ".hoogle-head {\n",
       "font-weight: bold;\n",
       "}\n",
       ".hoogle-sub {\n",
       "display: block;\n",
       "margin-left: 0.4em;\n",
       "}\n",
       ".hoogle-package {\n",
       "font-weight: bold;\n",
       "font-style: italic;\n",
       "}\n",
       ".hoogle-module {\n",
       "font-weight: bold;\n",
       "}\n",
       ".hoogle-class {\n",
       "font-weight: bold;\n",
       "}\n",
       ".get-type {\n",
       "color: green;\n",
       "font-weight: bold;\n",
       "font-family: monospace;\n",
       "display: block;\n",
       "white-space: pre-wrap;\n",
       "}\n",
       ".show-type {\n",
       "color: green;\n",
       "font-weight: bold;\n",
       "font-family: monospace;\n",
       "margin-left: 1em;\n",
       "}\n",
       ".mono {\n",
       "font-family: monospace;\n",
       "display: block;\n",
       "}\n",
       ".err-msg {\n",
       "color: red;\n",
       "font-style: italic;\n",
       "font-family: monospace;\n",
       "white-space: pre;\n",
       "display: block;\n",
       "}\n",
       "#unshowable {\n",
       "color: red;\n",
       "font-weight: bold;\n",
       "}\n",
       ".err-msg.in.collapse {\n",
       "padding-top: 0.7em;\n",
       "}\n",
       ".highlight-code {\n",
       "white-space: pre;\n",
       "font-family: monospace;\n",
       "}\n",
       ".suggestion-warning { \n",
       "font-weight: bold;\n",
       "color: rgb(200, 130, 0);\n",
       "}\n",
       ".suggestion-error { \n",
       "font-weight: bold;\n",
       "color: red;\n",
       "}\n",
       ".suggestion-name {\n",
       "font-weight: bold;\n",
       "}\n",
       "</style><span class='err-msg'>The type signature for `minus' lacks an accompanying binding</span>"
      ],
      "text/plain": [
       "The type signature for `minus' lacks an accompanying binding"
      ]
     },
     "metadata": {},
     "output_type": "display_data"
    }
   ],
   "source": [
    "minus :: Nat -> Nat -> Nat\n",
    "-- 여기에 minus 정의하기"
   ]
  },
  {
   "cell_type": "code",
   "execution_count": 5,
   "metadata": {
    "collapsed": false
   },
   "outputs": [],
   "source": [
    "data Tree = Null | Node Int Tree Tree  deriving Show"
   ]
  },
  {
   "cell_type": "markdown",
   "metadata": {},
   "source": [
    "디버깅을 위한 트리 그림 그리기 함수 drawTree 제공\n",
    "\n",
    "참고자료: https://stackoverflow.com/questions/30667522/using-diagrams-library-in-haskell-draw-binary-trees"
   ]
  },
  {
   "cell_type": "code",
   "execution_count": 43,
   "metadata": {
    "collapsed": false
   },
   "outputs": [],
   "source": [
    "import Diagrams.Prelude\n",
    "\n",
    "drawTree t = diagram (diagTree t)\n",
    "\n",
    "diagTree = go [] where\n",
    "  go nm Null         = diagNode \"Null\" # named nm\n",
    "  go nm (Node x l r) = \n",
    "    connectOutside nm nmL .\n",
    "    connectOutside nm nmR $\n",
    "          nx\n",
    "          ===\n",
    "      (nl ||| nr) # centerX\n",
    "    where\n",
    "      (nmL, nmR) = ('L':nm, 'R':nm)\n",
    "      nx = diagNode (show x) # named nm \n",
    "      nl = go nmL l # named nmL\n",
    "      nr = go nmR r # named nmR\n",
    "      \n",
    "label (Node n _ _) = n\n",
    "left (Node _ t1 _) = t1\n",
    "right (Node _ _ t2) = t2\n",
    "leaf n = Node n Null Null\n",
    "\n",
    "diagNode txt = text txt # fontSizeL 0.5 <> circle 1 & pad 2"
   ]
  },
  {
   "cell_type": "code",
   "execution_count": 44,
   "metadata": {
    "collapsed": false
   },
   "outputs": [
    {
     "data": {
      "image/png": "[encoded data removed]",
      "text/html": [
       "<img src=\"data:image/svg+xml;base64,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\"/>"
      ]
     },
     "metadata": {},
     "output_type": "display_data"
    }
   ],
   "source": [
    "tree1 = Node 1 (Node 2 (Node 4 Null Null) Null) (Node 3 (Node 6 Null Null) (Node 7 Null Null))\n",
    "\n",
    "drawTree tree1"
   ]
  },
  {
   "cell_type": "code",
   "execution_count": 13,
   "metadata": {
    "collapsed": false
   },
   "outputs": [
    {
     "data": {
      "text/html": [
       "<style>/* Styles used for the Hoogle display in the pager */\n",
       ".hoogle-doc {\n",
       "display: block;\n",
       "padding-bottom: 1.3em;\n",
       "padding-left: 0.4em;\n",
       "}\n",
       ".hoogle-code {\n",
       "display: block;\n",
       "font-family: monospace;\n",
       "white-space: pre;\n",
       "}\n",
       ".hoogle-text {\n",
       "display: block;\n",
       "}\n",
       ".hoogle-name {\n",
       "color: green;\n",
       "font-weight: bold;\n",
       "}\n",
       ".hoogle-head {\n",
       "font-weight: bold;\n",
       "}\n",
       ".hoogle-sub {\n",
       "display: block;\n",
       "margin-left: 0.4em;\n",
       "}\n",
       ".hoogle-package {\n",
       "font-weight: bold;\n",
       "font-style: italic;\n",
       "}\n",
       ".hoogle-module {\n",
       "font-weight: bold;\n",
       "}\n",
       ".hoogle-class {\n",
       "font-weight: bold;\n",
       "}\n",
       ".get-type {\n",
       "color: green;\n",
       "font-weight: bold;\n",
       "font-family: monospace;\n",
       "display: block;\n",
       "white-space: pre-wrap;\n",
       "}\n",
       ".show-type {\n",
       "color: green;\n",
       "font-weight: bold;\n",
       "font-family: monospace;\n",
       "margin-left: 1em;\n",
       "}\n",
       ".mono {\n",
       "font-family: monospace;\n",
       "display: block;\n",
       "}\n",
       ".err-msg {\n",
       "color: red;\n",
       "font-style: italic;\n",
       "font-family: monospace;\n",
       "white-space: pre;\n",
       "display: block;\n",
       "}\n",
       "#unshowable {\n",
       "color: red;\n",
       "font-weight: bold;\n",
       "}\n",
       ".err-msg.in.collapse {\n",
       "padding-top: 0.7em;\n",
       "}\n",
       ".highlight-code {\n",
       "white-space: pre;\n",
       "font-family: monospace;\n",
       "}\n",
       ".suggestion-warning { \n",
       "font-weight: bold;\n",
       "color: rgb(200, 130, 0);\n",
       "}\n",
       ".suggestion-error { \n",
       "font-weight: bold;\n",
       "color: red;\n",
       "}\n",
       ".suggestion-name {\n",
       "font-weight: bold;\n",
       "}\n",
       "</style><span class='err-msg'>The type signature for `plusTree' lacks an accompanying binding</span>"
      ],
      "text/plain": [
       "The type signature for `plusTree' lacks an accompanying binding"
      ]
     },
     "metadata": {},
     "output_type": "display_data"
    }
   ],
   "source": [
    "plusTree :: Tree -> Tree -> Tree\n",
    "-- 여기에 plusTree 정의하기"
   ]
  },
  {
   "cell_type": "code",
   "execution_count": 14,
   "metadata": {
    "collapsed": false
   },
   "outputs": [
    {
     "data": {
      "text/html": [
       "<style>/* Styles used for the Hoogle display in the pager */\n",
       ".hoogle-doc {\n",
       "display: block;\n",
       "padding-bottom: 1.3em;\n",
       "padding-left: 0.4em;\n",
       "}\n",
       ".hoogle-code {\n",
       "display: block;\n",
       "font-family: monospace;\n",
       "white-space: pre;\n",
       "}\n",
       ".hoogle-text {\n",
       "display: block;\n",
       "}\n",
       ".hoogle-name {\n",
       "color: green;\n",
       "font-weight: bold;\n",
       "}\n",
       ".hoogle-head {\n",
       "font-weight: bold;\n",
       "}\n",
       ".hoogle-sub {\n",
       "display: block;\n",
       "margin-left: 0.4em;\n",
       "}\n",
       ".hoogle-package {\n",
       "font-weight: bold;\n",
       "font-style: italic;\n",
       "}\n",
       ".hoogle-module {\n",
       "font-weight: bold;\n",
       "}\n",
       ".hoogle-class {\n",
       "font-weight: bold;\n",
       "}\n",
       ".get-type {\n",
       "color: green;\n",
       "font-weight: bold;\n",
       "font-family: monospace;\n",
       "display: block;\n",
       "white-space: pre-wrap;\n",
       "}\n",
       ".show-type {\n",
       "color: green;\n",
       "font-weight: bold;\n",
       "font-family: monospace;\n",
       "margin-left: 1em;\n",
       "}\n",
       ".mono {\n",
       "font-family: monospace;\n",
       "display: block;\n",
       "}\n",
       ".err-msg {\n",
       "color: red;\n",
       "font-style: italic;\n",
       "font-family: monospace;\n",
       "white-space: pre;\n",
       "display: block;\n",
       "}\n",
       "#unshowable {\n",
       "color: red;\n",
       "font-weight: bold;\n",
       "}\n",
       ".err-msg.in.collapse {\n",
       "padding-top: 0.7em;\n",
       "}\n",
       ".highlight-code {\n",
       "white-space: pre;\n",
       "font-family: monospace;\n",
       "}\n",
       ".suggestion-warning { \n",
       "font-weight: bold;\n",
       "color: rgb(200, 130, 0);\n",
       "}\n",
       ".suggestion-error { \n",
       "font-weight: bold;\n",
       "color: red;\n",
       "}\n",
       ".suggestion-name {\n",
       "font-weight: bold;\n",
       "}\n",
       "</style><span class='err-msg'>The type signature for `mirrorTree' lacks an accompanying binding</span>"
      ],
      "text/plain": [
       "The type signature for `mirrorTree' lacks an accompanying binding"
      ]
     },
     "metadata": {},
     "output_type": "display_data"
    }
   ],
   "source": [
    "mirrorTree :: Tree -> Tree\n",
    "-- 여기에 mirrorTree 정의하기"
   ]
  }
 ],
 "metadata": {
  "kernelspec": {
   "display_name": "Haskell",
   "language": "haskell",
   "name": "haskell"
  },
  "language_info": {
   "codemirror_mode": "ihaskell",
   "file_extension": ".hs",
   "name": "haskell",
   "version": "7.10.2"
  }
 },
 "nbformat": 4,
 "nbformat_minor": 0
}
